{
 "cells": [
  {
   "cell_type": "code",
   "execution_count": 9,
   "metadata": {},
   "outputs": [
    {
     "name": "stdout",
     "output_type": "stream",
     "text": [
      "Part A. The sampling probabilities\n",
      "P(C|-s,r) = <.878, .122>\n",
      "P(C|-s,-r) = <.310, .690>\n",
      "P(R|c,-s,w) = <.914, .086>\n",
      "P(R|-c,-s,w) = <.818, .182>\n",
      "\n",
      "Part B. The transition probability matrix\n",
      "[[0.9322 0.0068 0.061  0.    ]\n",
      " [0.4931 0.162  0.     0.3448]\n",
      " [0.439  0.     0.4701 0.0909]\n",
      " [0.     0.1551 0.4091 0.4357]]\n",
      "\n",
      "Part C. The probability for the query\n",
      "P(C|-s,w) = < 0.856482 , 0.143518 >\n"
     ]
    }
   ],
   "source": [
    "import random\n",
    "import numpy as np\n",
    "\n",
    "print(\"Part A. The sampling probabilities\")\n",
    "print(\"P(C|-s,r) = <.878, .122>\")\n",
    "print(\"P(C|-s,-r) = <.310, .690>\")\n",
    "print(\"P(R|c,-s,w) = <.914, .086>\")\n",
    "print(\"P(R|-c,-s,w) = <.818, .182>\")\n",
    "print()\n",
    "print(\"Part B. The transition probability matrix\")\n",
    "m = np.array([\n",
    "    [0.9322, 0.0068, 0.0610, 0.0],\n",
    "    [0.4931, 0.1620, 0.0, 0.3448],\n",
    "    [0.4390, 0.0, 0.4701, 0.0909],\n",
    "    [0.0, 0.1551, 0.4091, 0.4357]\n",
    "])\n",
    "print(m)\n",
    "print()\n",
    "print(\"Part C. The probability for the query\")\n",
    "\n",
    "N = 1000000 \n",
    "\n",
    "s1 = 0\n",
    "s2 = 1\n",
    "s3 = 2\n",
    "s4 = 3\n",
    "\n",
    "cur = random.choice([s1,s2,s3,s4])\n",
    "\n",
    "countfirst = 0\n",
    "countsecond = 0\n",
    "\n",
    "for i in range(N):\n",
    "    next = random.random()\n",
    "    if next<m[cur][0]:\n",
    "        cur = s1\n",
    "    elif next <m[cur][0] + m[cur][1]:\n",
    "        cur = s2\n",
    "    elif next < m[cur][0] + m[cur][1] + m[cur][2]:\n",
    "        cur = s3\n",
    "    else:\n",
    "        cur = s4\n",
    "\n",
    "    if cur in [s1,s2]:\n",
    "        countfirst+=1\n",
    "    else:\n",
    "        countsecond+=1\n",
    "\n",
    "alpha = countfirst/N\n",
    "beta = countsecond/N\n",
    "\n",
    "print(\"P(C|-s,w) = <\",alpha,\",\",beta,\">\")\n"
   ]
  }
 ],
 "metadata": {
  "kernelspec": {
   "display_name": "Python 3",
   "language": "python",
   "name": "python3"
  },
  "language_info": {
   "codemirror_mode": {
    "name": "ipython",
    "version": 3
   },
   "file_extension": ".py",
   "mimetype": "text/x-python",
   "name": "python",
   "nbconvert_exporter": "python",
   "pygments_lexer": "ipython3",
   "version": "3.9.1"
  },
  "orig_nbformat": 4
 },
 "nbformat": 4,
 "nbformat_minor": 2
}
